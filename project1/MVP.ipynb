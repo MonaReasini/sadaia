{
 "cells": [
  {
   "attachments": {},
   "cell_type": "markdown",
   "id": "5f954eb9",
   "metadata": {},
   "source": [
    "# Human Resource Dataset: visualization, analysis, and prediction\n",
    "By: Mona Alrussaini and Hind Alharbi"
   ]
  },
  {
   "attachments": {},
   "cell_type": "markdown",
   "id": "4769be14",
   "metadata": {},
   "source": [
    "The main goal is to predict the probability of the eligibility for an employee to be promoted or not."
   ]
  },
  {
   "cell_type": "markdown",
   "id": "11241abd",
   "metadata": {},
   "source": [
    "Step One: Problem Identification:\n",
    "predict the probability of the eligibility for an employee to be promoted or not."
   ]
  },
  {
   "cell_type": "markdown",
   "id": "3ba63bfd",
   "metadata": {},
   "source": [
    "Step Two: Data Wrangling\n",
    "will be working with csv files Here from Kaggle"
   ]
  },
  {
   "cell_type": "markdown",
   "id": "50ebd985",
   "metadata": {},
   "source": [
    "Step Three: Data Exploration\n",
    "We know the problem we are solving, we have the data, now ask the question, what in the data is going to help me solve our problem? and structure the exploration around that. The goal is to identify features in the dataset that is going to be useful and to do that we need to start with cleaning data since we won't be able to do proper exploration when we have unclean data."
   ]
  },
  {
   "cell_type": "code",
   "execution_count": 17,
   "id": "30c98a2e",
   "metadata": {},
   "outputs": [],
   "source": [
    "import numpy as np\n",
    "import pandas as pd\n",
    "import seaborn as sns\n",
    "import matplotlib.pyplot as plt\n",
    "from sklearn.preprocessing import MinMaxScaler, StandardScaler\n",
    "from sklearn.ensemble import RandomForestClassifier\n",
    "from sklearn.metrics import classification_report, roc_auc_score, confusion_matrix\n",
    "from sklearn.metrics import precision_score, recall_score, accuracy_score, f1_score\n",
    "from sklearn import tree\n",
    "from sklearn.model_selection import train_test_split, RandomizedSearchCV, GridSearchCV\n",
    "from sklearn.model_selection import cross_val_score, KFold, StratifiedKFold, RepeatedStratifiedKFold\n",
    "from scipy.stats import uniform\n",
    "import pickle\n",
    "data=pd.read_csv('train_.csv')"
   ]
  },
  {
   "cell_type": "markdown",
   "id": "66362420",
   "metadata": {},
   "source": [
    "Step Four: Data visualization"
   ]
  },
  {
   "cell_type": "code",
   "execution_count": 19,
   "id": "5a71e5bc",
   "metadata": {},
   "outputs": [
    {
     "data": {
      "image/png": "[encoded data removed]",
      "text/plain": [
       "<Figure size 288x288 with 1 Axes>"
      ]
     },
     "metadata": {},
     "output_type": "display_data"
    }
   ],
   "source": [
    "plt.figure(figsize=(4,4))\n",
    "plt.pie(data['is_promoted'].value_counts(),labels=(' Not promoted ', ' promoted'),\n",
    "        explode = [0.09,0.06],autopct ='%1.1f%%'\n",
    "        ,shadow = True, startangle = 90,\n",
    "        labeldistance = 1.2, pctdistance =0.5)\n",
    "plt.show()"
   ]
  },
  {
   "cell_type": "markdown",
   "id": "4d938f1c",
   "metadata": {},
   "source": [
    "Step Five: Modeling\n",
    "Now we start modeling, we will try different models, look at the scores and then you go back to Step Three and Step Four, do more or less data cleaning, explore the data further, do some further pre-processing and feature engineering and build some more models."
   ]
  },
  {
   "cell_type": "code",
   "execution_count": null,
   "id": "0f642dde",
   "metadata": {},
   "outputs": [],
   "source": [
    "from sklearn.svm import SVC\n",
    "SVCModel = SVC(kernel= 'rbf',# it can be also linear,poly,sigmoid,precomputed\n",
    "               max_iter=100,C=1.0,gamma='auto')\n",
    "SVCModel.fit(xtrain, ytrain)\n",
    "print('SVCModel Train Score is : ' , SVCModel.score(xtrain, ytrain))\n",
    "print('SVCModel Test Score is : ' , SVCModel.score(xtest, ytest))\n",
    "y_pred = SVCModel.predict(xtest)"
   ]
  }
 ],
 "metadata": {
  "kernelspec": {
   "display_name": "Python 3 (ipykernel)",
   "language": "python",
   "name": "python3"
  },
  "language_info": {
   "codemirror_mode": {
    "name": "ipython",
    "version": 3
   },
   "file_extension": ".py",
   "mimetype": "text/x-python",
   "name": "python",
   "nbconvert_exporter": "python",
   "pygments_lexer": "ipython3",
   "version": "3.9.7"
  }
 },
 "nbformat": 4,
 "nbformat_minor": 5
}
